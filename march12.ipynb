{
 "cells": [
  {
   "cell_type": "code",
   "execution_count": null,
   "id": "6fe587ff-34e0-4a65-9fab-1a5a2ff95e6b",
   "metadata": {},
   "outputs": [],
   "source": [
    "ans 1"
   ]
  },
  {
   "cell_type": "code",
   "execution_count": 9,
   "id": "3d317802-8085-4052-b9db-5630ef3f2072",
   "metadata": {},
   "outputs": [
    {
     "name": "stdout",
     "output_type": "stream",
     "text": [
      "95% Confidence Interval: (48.13, 51.87)\n"
     ]
    }
   ],
   "source": [
    "import scipy.stats as stats\n",
    "\n",
    "# Sample data parameters\n",
    "mean = 50\n",
    "std_dev = 5\n",
    "sample_size = 30  # You'll need to replace this with your actual sample size\n",
    "\n",
    "# Confidence level\n",
    "confidence_level = 0.95\n",
    "\n",
    "# Calculate the standard error\n",
    "standard_error = std_dev / (sample_size**0.5)\n",
    "\n",
    "# Calculate the margin of error\n",
    "margin_of_error = stats.t.ppf((1 + confidence_level) / 2, sample_size - 1) * standard_error\n",
    "\n",
    "# Calculate the confidence interval\n",
    "lower_bound = mean - margin_of_error\n",
    "upper_bound = mean + margin_of_error\n",
    "\n",
    "# Interpret the results\n",
    "print(f\"95% Confidence Interval: ({lower_bound:.2f}, {upper_bound:.2f})\")\n"
   ]
  },
  {
   "cell_type": "code",
   "execution_count": null,
   "id": "e31c4d75-7008-442a-934e-40d4a49204f2",
   "metadata": {},
   "outputs": [],
   "source": [
    "ans 2"
   ]
  },
  {
   "cell_type": "code",
   "execution_count": 10,
   "id": "ef66e06e-9c30-4c88-9b1e-97d8236822b1",
   "metadata": {},
   "outputs": [
    {
     "name": "stdout",
     "output_type": "stream",
     "text": [
      "Chi-Square Statistic: 1.86\n",
      "P-value: 0.8678\n",
      "Fail to reject the null hypothesis. The distribution of M&M colors matches the expected distribution.\n"
     ]
    }
   ],
   "source": [
    "import scipy.stats as stats\n",
    "\n",
    "# Observed frequencies of M&M colors\n",
    "observed = [50, 45, 55, 30, 25, 50]  # Replace these values with your actual observed data\n",
    "\n",
    "# Expected frequencies based on the expected distribution\n",
    "expected = [0.2, 0.2, 0.2, 0.1, 0.1, 0.2]  # Expected proportions\n",
    "\n",
    "# Total number of observations\n",
    "total_observations = sum(observed)\n",
    "\n",
    "# Calculate expected frequencies based on the total number of observations\n",
    "expected = [prop * total_observations for prop in expected]\n",
    "\n",
    "# Perform the chi-square goodness of fit test\n",
    "chi2, p = stats.chisquare(f_obs=observed, f_exp=expected)\n",
    "\n",
    "# Determine the degrees of freedom\n",
    "degrees_of_freedom = len(observed) - 1\n",
    "\n",
    "# Set the significance level\n",
    "alpha = 0.05\n",
    "\n",
    "# Check if the p-value is less than alpha to determine significance\n",
    "if p < alpha:\n",
    "    print(f\"Chi-Square Statistic: {chi2:.2f}\")\n",
    "    print(f\"P-value: {p:.4f}\")\n",
    "    print(\"Reject the null hypothesis. The distribution of M&M colors does not match the expected distribution.\")\n",
    "else:\n",
    "    print(f\"Chi-Square Statistic: {chi2:.2f}\")\n",
    "    print(f\"P-value: {p:.4f}\")\n",
    "    print(\"Fail to reject the null hypothesis. The distribution of M&M colors matches the expected distribution.\")\n"
   ]
  },
  {
   "cell_type": "code",
   "execution_count": null,
   "id": "a35d09da-2ee8-4887-9c3d-5328f8c1ab8a",
   "metadata": {},
   "outputs": [],
   "source": [
    "ans 3"
   ]
  },
  {
   "cell_type": "code",
   "execution_count": 11,
   "id": "8d3ef832-18f4-4a9e-86b4-17e77dbc55dc",
   "metadata": {},
   "outputs": [
    {
     "name": "stdout",
     "output_type": "stream",
     "text": [
      "Chi-Square Statistic: 5.83\n",
      "P-value: 0.0541\n",
      "Degrees of Freedom: 2\n",
      "Expected Frequencies:\n",
      "[[15. 15. 15.]\n",
      " [20. 20. 20.]]\n",
      "Fail to reject the null hypothesis. There is no significant association between groups and outcomes.\n"
     ]
    }
   ],
   "source": [
    "import scipy.stats as stats\n",
    "import numpy as np\n",
    "\n",
    "# Create the contingency table\n",
    "observed = np.array([[20, 10, 15],\n",
    "                    [15, 25, 20]])\n",
    "\n",
    "# Perform the chi-square test\n",
    "chi2, p, dof, expected = stats.chi2_contingency(observed)\n",
    "\n",
    "# Interpret the results\n",
    "print(f\"Chi-Square Statistic: {chi2:.2f}\")\n",
    "print(f\"P-value: {p:.4f}\")\n",
    "print(f\"Degrees of Freedom: {dof}\")\n",
    "print(\"Expected Frequencies:\")\n",
    "print(expected)\n",
    "\n",
    "# Set the significance level\n",
    "alpha = 0.05\n",
    "\n",
    "# Check if the p-value is less than alpha to determine significance\n",
    "if p < alpha:\n",
    "    print(\"Reject the null hypothesis. There is a significant association between groups and outcomes.\")\n",
    "else:\n",
    "    print(\"Fail to reject the null hypothesis. There is no significant association between groups and outcomes.\")\n"
   ]
  },
  {
   "cell_type": "code",
   "execution_count": null,
   "id": "69957193-e78e-4519-a00a-8dd7e7004847",
   "metadata": {},
   "outputs": [],
   "source": [
    "ans 4"
   ]
  },
  {
   "cell_type": "code",
   "execution_count": 12,
   "id": "c9de1b0e-3339-4eb2-bee9-6d2c66075702",
   "metadata": {},
   "outputs": [
    {
     "name": "stdout",
     "output_type": "stream",
     "text": [
      "95% Confidence Interval for the Proportion of Smokers: (0.0915, 0.1485)\n"
     ]
    }
   ],
   "source": [
    "import scipy.stats as stats\n",
    "\n",
    "# Sample size\n",
    "n = 500\n",
    "\n",
    "# Number of individuals who smoke in the sample\n",
    "x = 60\n",
    "\n",
    "# Calculate the sample proportion\n",
    "p_hat = x / n\n",
    "\n",
    "# Calculate the standard error\n",
    "standard_error = (p_hat * (1 - p_hat) / n) ** 0.5\n",
    "\n",
    "# Set the confidence level\n",
    "confidence_level = 0.95\n",
    "\n",
    "# Calculate the margin of error\n",
    "margin_of_error = stats.norm.ppf((1 + confidence_level) / 2) * standard_error\n",
    "\n",
    "# Calculate the confidence interval\n",
    "lower_bound = p_hat - margin_of_error\n",
    "upper_bound = p_hat + margin_of_error\n",
    "\n",
    "# Interpret the results\n",
    "print(f\"95% Confidence Interval for the Proportion of Smokers: ({lower_bound:.4f}, {upper_bound:.4f})\")\n"
   ]
  },
  {
   "cell_type": "code",
   "execution_count": null,
   "id": "a177424a-401e-40bc-a0ec-03a724bdf92e",
   "metadata": {},
   "outputs": [],
   "source": [
    "ans 5"
   ]
  },
  {
   "cell_type": "code",
   "execution_count": 13,
   "id": "d5aec466-7710-4431-bff1-f7225924229c",
   "metadata": {},
   "outputs": [
    {
     "name": "stdout",
     "output_type": "stream",
     "text": [
      "90% Confidence Interval: (72.15, 77.85)\n"
     ]
    }
   ],
   "source": [
    "import scipy.stats as stats\n",
    "\n",
    "# Sample data parameters\n",
    "mean = 75\n",
    "std_dev = 12\n",
    "sample_size = 50  # You'll need to replace this with your actual sample size\n",
    "\n",
    "# Confidence level\n",
    "confidence_level = 0.90\n",
    "\n",
    "# Calculate the standard error\n",
    "standard_error = std_dev / (sample_size**0.5)\n",
    "\n",
    "# Calculate the margin of error\n",
    "margin_of_error = stats.t.ppf((1 + confidence_level) / 2, sample_size - 1) * standard_error\n",
    "\n",
    "# Calculate the confidence interval\n",
    "lower_bound = mean - margin_of_error\n",
    "upper_bound = mean + margin_of_error\n",
    "\n",
    "# Interpret the results\n",
    "print(f\"90% Confidence Interval: ({lower_bound:.2f}, {upper_bound:.2f})\")\n"
   ]
  },
  {
   "cell_type": "code",
   "execution_count": null,
   "id": "6428fe71-96a7-4556-970d-86e489c63805",
   "metadata": {},
   "outputs": [],
   "source": [
    "ans 6"
   ]
  },
  {
   "cell_type": "code",
   "execution_count": 14,
   "id": "fbf57e98-a35a-495c-af1b-a548d0084cef",
   "metadata": {},
   "outputs": [
    {
     "data": {
      "image/png": "[encoded data removed]",
      "text/plain": [
       "<Figure size 640x480 with 1 Axes>"
      ]
     },
     "metadata": {},
     "output_type": "display_data"
    }
   ],
   "source": [
    "import numpy as np\n",
    "import matplotlib.pyplot as plt\n",
    "import scipy.stats as stats\n",
    "\n",
    "# Degrees of freedom\n",
    "df = 10\n",
    "\n",
    "# Generate chi-square values\n",
    "x = np.linspace(0, 30, 1000)  # Adjust the range as needed\n",
    "chi2_values = stats.chi2.pdf(x, df)\n",
    "\n",
    "# Create a plot\n",
    "plt.plot(x, chi2_values, 'b-', lw=2, label=f'Chi-Square ({df} df)')\n",
    "\n",
    "# Shade the area for chi-square statistic of 15\n",
    "x_shaded = np.linspace(0, 15, 1000)\n",
    "chi2_shaded = stats.chi2.pdf(x_shaded, df)\n",
    "plt.fill_between(x_shaded, chi2_shaded, color='gray', alpha=0.5, label='Chi-Square Statistic (≤ 15)')\n",
    "\n",
    "# Label axes and add a legend\n",
    "plt.xlabel('Chi-Square Value')\n",
    "plt.ylabel('Probability Density')\n",
    "plt.title(f'Chi-Square Distribution ({df} df) with Shaded Area')\n",
    "plt.legend()\n",
    "\n",
    "# Show the plot\n",
    "plt.show()\n"
   ]
  },
  {
   "cell_type": "code",
   "execution_count": null,
   "id": "96ab7548-4b6a-45da-bfb0-34c0910e873b",
   "metadata": {},
   "outputs": [],
   "source": [
    "ans 7"
   ]
  },
  {
   "cell_type": "markdown",
   "id": "504d982b-d0d4-48f6-8a84-6a8b05602e0b",
   "metadata": {},
   "source": [
    " you can use the following formula for a confidence interval for a proportion:\n",
    "\n",
    "Confidence Interval\n",
    "=\n",
    "�\n",
    "^\n",
    "±\n",
    "�\n",
    "⋅\n",
    "�\n",
    "^\n",
    "(\n",
    "1\n",
    "−\n",
    "�\n",
    "^\n",
    ")\n",
    "�\n",
    "Confidence Interval= \n",
    "p\n",
    "^\n",
    "​\n",
    " ±Z⋅ \n",
    "n\n",
    "p\n",
    "^\n",
    "​\n",
    " (1− \n",
    "p\n",
    "^\n",
    "​\n",
    " )\n",
    "​\n",
    " \n",
    "​\n",
    " \n",
    "\n",
    "Where:\n",
    "\n",
    "�\n",
    "^\n",
    "p\n",
    "^\n",
    "​\n",
    "  is the sample proportion.\n",
    "�\n",
    "Z is the critical value from the standard normal distribution corresponding to the desired confidence level.\n",
    "�\n",
    "n is the sample size."
   ]
  },
  {
   "cell_type": "code",
   "execution_count": 4,
   "id": "84a0fb9a-30a0-49e2-b3b9-861eaee59e08",
   "metadata": {},
   "outputs": [
    {
     "name": "stdout",
     "output_type": "stream",
     "text": [
      "99% Confidence Interval for the Proportion of People Preferring Coke: (0.4793, 0.5607)\n"
     ]
    }
   ],
   "source": [
    "import scipy.stats as stats\n",
    "\n",
    "# Sample parameters\n",
    "sample_size = 1000\n",
    "sample_preferred_coke = 520\n",
    "\n",
    "# Calculate the sample proportion\n",
    "sample_proportion = sample_preferred_coke / sample_size\n",
    "\n",
    "# Confidence level\n",
    "confidence_level = 0.99\n",
    "\n",
    "# Calculate the critical value (Z) for the desired confidence level\n",
    "critical_value = stats.norm.ppf((1 + confidence_level) / 2)\n",
    "\n",
    "# Calculate the standard error\n",
    "standard_error = (sample_proportion * (1 - sample_proportion) / sample_size) ** 0.5\n",
    "\n",
    "# Calculate the margin of error\n",
    "margin_of_error = critical_value * standard_error\n",
    "\n",
    "# Calculate the confidence interval\n",
    "lower_bound = sample_proportion - margin_of_error\n",
    "upper_bound = sample_proportion + margin_of_error\n",
    "\n",
    "# Interpret the results\n",
    "print(f\"99% Confidence Interval for the Proportion of People Preferring Coke: ({lower_bound:.4f}, {upper_bound:.4f})\")\n"
   ]
  },
  {
   "cell_type": "code",
   "execution_count": null,
   "id": "a53c1804-2f60-4760-894f-7eec717afad3",
   "metadata": {},
   "outputs": [],
   "source": [
    "ans 8"
   ]
  },
  {
   "cell_type": "code",
   "execution_count": 15,
   "id": "1be9bd1c-0a3e-4cc6-8ea2-6810c97a77e7",
   "metadata": {},
   "outputs": [
    {
     "name": "stdout",
     "output_type": "stream",
     "text": [
      "Chi-Square Statistic: 1.00\n",
      "P-value: 0.3173\n",
      "Fail to reject the null hypothesis. There's no evidence the coin is biased towards tails.\n"
     ]
    }
   ],
   "source": [
    "import scipy.stats as stats\n",
    "import numpy as np\n",
    "\n",
    "# Observed frequencies\n",
    "observed_tails = 45\n",
    "observed_heads = 100 - observed_tails\n",
    "\n",
    "# Expected frequencies for a fair coin\n",
    "expected_tails = 0.5 * 100  # 50 tails\n",
    "expected_heads = 0.5 * 100  # 50 heads\n",
    "\n",
    "# Create observed and expected arrays\n",
    "observed = np.array([observed_tails, observed_heads])\n",
    "expected = np.array([expected_tails, expected_heads])\n",
    "\n",
    "# Perform the chi-square goodness of fit test\n",
    "chi2, p = stats.chisquare(f_obs=observed, f_exp=expected)\n",
    "\n",
    "# Determine the degrees of freedom\n",
    "degrees_of_freedom = len(observed) - 1\n",
    "\n",
    "# Set the significance level\n",
    "alpha = 0.05\n",
    "\n",
    "# Check if the p-value is less than alpha to determine significance\n",
    "if p < alpha:\n",
    "    print(f\"Chi-Square Statistic: {chi2:.2f}\")\n",
    "    print(f\"P-value: {p:.4f}\")\n",
    "    print(\"Reject the null hypothesis. The coin may be biased towards tails.\")\n",
    "else:\n",
    "    print(f\"Chi-Square Statistic: {chi2:.2f}\")\n",
    "    print(f\"P-value: {p:.4f}\")\n",
    "    print(\"Fail to reject the null hypothesis. There's no evidence the coin is biased towards tails.\")\n"
   ]
  },
  {
   "cell_type": "code",
   "execution_count": null,
   "id": "948988d6-486f-4919-a9d4-8cf4418d6d2c",
   "metadata": {},
   "outputs": [],
   "source": [
    "ans 9"
   ]
  },
  {
   "cell_type": "code",
   "execution_count": 16,
   "id": "8cf35d0f-afba-4f1b-b7dd-e0a9415973c6",
   "metadata": {},
   "outputs": [
    {
     "name": "stdout",
     "output_type": "stream",
     "text": [
      "Chi-Square Statistic: 12.06\n",
      "P-value: 0.0005\n",
      "Degrees of Freedom: 1\n",
      "Expected Frequencies:\n",
      "[[ 45.  45.]\n",
      " [155. 155.]]\n",
      "Reject the null hypothesis. There is a significant association between smoking status and lung cancer diagnosis.\n"
     ]
    }
   ],
   "source": [
    "import scipy.stats as stats\n",
    "\n",
    "# Create the contingency table\n",
    "observed = [[60, 30], [140, 170]]\n",
    "\n",
    "# Perform the chi-square test for independence\n",
    "chi2, p, dof, expected = stats.chi2_contingency(observed)\n",
    "\n",
    "# Determine the significance level\n",
    "alpha = 0.05\n",
    "\n",
    "# Interpret the results\n",
    "print(f\"Chi-Square Statistic: {chi2:.2f}\")\n",
    "print(f\"P-value: {p:.4f}\")\n",
    "print(f\"Degrees of Freedom: {dof}\")\n",
    "print(\"Expected Frequencies:\")\n",
    "print(expected)\n",
    "\n",
    "# Check if the p-value is less than alpha to determine significance\n",
    "if p < alpha:\n",
    "    print(\"Reject the null hypothesis. There is a significant association between smoking status and lung cancer diagnosis.\")\n",
    "else:\n",
    "    print(\"Fail to reject the null hypothesis. There is no significant association between smoking status and lung cancer diagnosis.\")\n"
   ]
  },
  {
   "cell_type": "code",
   "execution_count": null,
   "id": "68349852-dae5-4067-91dc-f576adbeeaa9",
   "metadata": {},
   "outputs": [],
   "source": [
    "ans 10"
   ]
  },
  {
   "cell_type": "code",
   "execution_count": 17,
   "id": "4dd18a8e-d0ab-44f1-9238-40c750866d84",
   "metadata": {},
   "outputs": [
    {
     "ename": "ValueError",
     "evalue": "The internally computed table of expected frequencies has a zero element at (2, 0).",
     "output_type": "error",
     "traceback": [
      "\u001b[0;31m---------------------------------------------------------------------------\u001b[0m",
      "\u001b[0;31mValueError\u001b[0m                                Traceback (most recent call last)",
      "Cell \u001b[0;32mIn[17], line 7\u001b[0m\n\u001b[1;32m      4\u001b[0m observed \u001b[38;5;241m=\u001b[39m [[\u001b[38;5;241m200\u001b[39m, \u001b[38;5;241m225\u001b[39m], [\u001b[38;5;241m300\u001b[39m, \u001b[38;5;241m275\u001b[39m], [\u001b[38;5;241m0\u001b[39m, \u001b[38;5;241m0\u001b[39m]]\n\u001b[1;32m      6\u001b[0m \u001b[38;5;66;03m# Perform the chi-square test for independence\u001b[39;00m\n\u001b[0;32m----> 7\u001b[0m chi2, p, dof, expected \u001b[38;5;241m=\u001b[39m \u001b[43mstats\u001b[49m\u001b[38;5;241;43m.\u001b[39;49m\u001b[43mchi2_contingency\u001b[49m\u001b[43m(\u001b[49m\u001b[43mobserved\u001b[49m\u001b[43m)\u001b[49m\n\u001b[1;32m      9\u001b[0m \u001b[38;5;66;03m# Determine the significance level\u001b[39;00m\n\u001b[1;32m     10\u001b[0m alpha \u001b[38;5;241m=\u001b[39m \u001b[38;5;241m0.01\u001b[39m\n",
      "File \u001b[0;32m/opt/conda/lib/python3.10/site-packages/scipy/stats/contingency.py:276\u001b[0m, in \u001b[0;36mchi2_contingency\u001b[0;34m(observed, correction, lambda_)\u001b[0m\n\u001b[1;32m    272\u001b[0m \u001b[38;5;28;01mif\u001b[39;00m np\u001b[38;5;241m.\u001b[39many(expected \u001b[38;5;241m==\u001b[39m \u001b[38;5;241m0\u001b[39m):\n\u001b[1;32m    273\u001b[0m     \u001b[38;5;66;03m# Include one of the positions where expected is zero in\u001b[39;00m\n\u001b[1;32m    274\u001b[0m     \u001b[38;5;66;03m# the exception message.\u001b[39;00m\n\u001b[1;32m    275\u001b[0m     zeropos \u001b[38;5;241m=\u001b[39m \u001b[38;5;28mlist\u001b[39m(\u001b[38;5;28mzip\u001b[39m(\u001b[38;5;241m*\u001b[39mnp\u001b[38;5;241m.\u001b[39mnonzero(expected \u001b[38;5;241m==\u001b[39m \u001b[38;5;241m0\u001b[39m)))[\u001b[38;5;241m0\u001b[39m]\n\u001b[0;32m--> 276\u001b[0m     \u001b[38;5;28;01mraise\u001b[39;00m \u001b[38;5;167;01mValueError\u001b[39;00m(\u001b[38;5;124m\"\u001b[39m\u001b[38;5;124mThe internally computed table of expected \u001b[39m\u001b[38;5;124m\"\u001b[39m\n\u001b[1;32m    277\u001b[0m                      \u001b[38;5;124m\"\u001b[39m\u001b[38;5;124mfrequencies has a zero element at \u001b[39m\u001b[38;5;132;01m%s\u001b[39;00m\u001b[38;5;124m.\u001b[39m\u001b[38;5;124m\"\u001b[39m \u001b[38;5;241m%\u001b[39m (zeropos,))\n\u001b[1;32m    279\u001b[0m \u001b[38;5;66;03m# The degrees of freedom\u001b[39;00m\n\u001b[1;32m    280\u001b[0m dof \u001b[38;5;241m=\u001b[39m expected\u001b[38;5;241m.\u001b[39msize \u001b[38;5;241m-\u001b[39m \u001b[38;5;28msum\u001b[39m(expected\u001b[38;5;241m.\u001b[39mshape) \u001b[38;5;241m+\u001b[39m expected\u001b[38;5;241m.\u001b[39mndim \u001b[38;5;241m-\u001b[39m \u001b[38;5;241m1\u001b[39m\n",
      "\u001b[0;31mValueError\u001b[0m: The internally computed table of expected frequencies has a zero element at (2, 0)."
     ]
    }
   ],
   "source": [
    "import scipy.stats as stats\n",
    "\n",
    "# Create the contingency table\n",
    "observed = [[200, 225], [300, 275], [0, 0]]\n",
    "\n",
    "# Perform the chi-square test for independence\n",
    "chi2, p, dof, expected = stats.chi2_contingency(observed)\n",
    "\n",
    "# Determine the significance level\n",
    "alpha = 0.01\n",
    "\n",
    "# Interpret the results\n",
    "print(f\"Chi-Square Statistic: {chi2:.2f}\")\n",
    "print(f\"P-value: {p:.4f}\")\n",
    "print(f\"Degrees of Freedom: {dof}\")\n",
    "print(\"Expected Frequencies:\")\n",
    "print(expected)\n",
    "\n",
    "# Check if the p-value is less than alpha to determine significance\n",
    "if p < alpha:\n",
    "    print(\"Reject the null hypothesis. There is a significant association between chocolate preference and country of origin.\")\n",
    "else:\n",
    "    print(\"Fail to reject the null hypothesis. There is no significant association between chocolate preference and country of origin.\")\n"
   ]
  },
  {
   "cell_type": "code",
   "execution_count": null,
   "id": "4d55259e-cf6d-4753-93ac-85a5b59c23a9",
   "metadata": {},
   "outputs": [],
   "source": [
    "ans 11"
   ]
  },
  {
   "cell_type": "code",
   "execution_count": 18,
   "id": "bebbb992-912f-4719-aa87-7e483f0b4c0b",
   "metadata": {},
   "outputs": [
    {
     "name": "stdout",
     "output_type": "stream",
     "text": [
      "t-Statistic: 1.10\n",
      "Critical Value: 2.05\n",
      "P-value: 0.2823\n",
      "Fail to reject the null hypothesis. There is no significant difference in the population mean and 70.\n"
     ]
    }
   ],
   "source": [
    "import scipy.stats as stats\n",
    "\n",
    "# Sample parameters\n",
    "sample_size = 30\n",
    "sample_mean = 72\n",
    "sample_std = 10\n",
    "population_mean = 70\n",
    "\n",
    "# Significance level (alpha)\n",
    "alpha = 0.05\n",
    "\n",
    "# Calculate the t-statistic\n",
    "t_statistic = (sample_mean - population_mean) / (sample_std / (sample_size**0.5))\n",
    "\n",
    "# Calculate degrees of freedom\n",
    "degrees_of_freedom = sample_size - 1\n",
    "\n",
    "# Calculate the critical value from the t-distribution\n",
    "critical_value = stats.t.ppf(1 - alpha / 2, degrees_of_freedom)\n",
    "\n",
    "# Calculate the p-value\n",
    "p_value = 2 * (1 - stats.t.cdf(abs(t_statistic), degrees_of_freedom))\n",
    "\n",
    "# Conduct the hypothesis test\n",
    "if abs(t_statistic) > critical_value:\n",
    "    print(f\"t-Statistic: {t_statistic:.2f}\")\n",
    "    print(f\"Critical Value: {critical_value:.2f}\")\n",
    "    print(f\"P-value: {p_value:.4f}\")\n",
    "    print(\"Reject the null hypothesis. The population mean is significantly different from 70.\")\n",
    "else:\n",
    "    print(f\"t-Statistic: {t_statistic:.2f}\")\n",
    "    print(f\"Critical Value: {critical_value:.2f}\")\n",
    "    print(f\"P-value: {p_value:.4f}\")\n",
    "    print(\"Fail to reject the null hypothesis. There is no significant difference in the population mean and 70.\")"
   ]
  },
  {
   "cell_type": "code",
   "execution_count": null,
   "id": "fc92b46f-07b8-4675-b3d0-2aeb8881df72",
   "metadata": {},
   "outputs": [],
   "source": []
  },
  {
   "cell_type": "code",
   "execution_count": null,
   "id": "f52f3ab2-538b-4dbd-a509-e76da51e1404",
   "metadata": {},
   "outputs": [],
   "source": []
  },
  {
   "cell_type": "code",
   "execution_count": null,
   "id": "4a494423-c83e-4dab-b9c4-ac29bf838aea",
   "metadata": {},
   "outputs": [],
   "source": []
  },
  {
   "cell_type": "code",
   "execution_count": null,
   "id": "a61afc50-ce0e-48f8-8dc8-00bc1b8349bc",
   "metadata": {},
   "outputs": [],
   "source": [
    "complete"
   ]
  },
  {
   "cell_type": "code",
   "execution_count": null,
   "id": "ad4a53fd-c950-4fcd-afdd-4287a936fcd3",
   "metadata": {},
   "outputs": [],
   "source": []
  }
 ],
 "metadata": {
  "kernelspec": {
   "display_name": "Python 3 (ipykernel)",
   "language": "python",
   "name": "python3"
  },
  "language_info": {
   "codemirror_mode": {
    "name": "ipython",
    "version": 3
   },
   "file_extension": ".py",
   "mimetype": "text/x-python",
   "name": "python",
   "nbconvert_exporter": "python",
   "pygments_lexer": "ipython3",
   "version": "3.10.8"
  }
 },
 "nbformat": 4,
 "nbformat_minor": 5
}
