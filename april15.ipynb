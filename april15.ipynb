{
 "cells": [
  {
   "cell_type": "code",
   "execution_count": null,
   "id": "0b25b415-8967-41e6-b8e4-0036afc6374f",
   "metadata": {},
   "outputs": [],
   "source": [
    "ans 1"
   ]
  },
  {
   "cell_type": "code",
   "execution_count": null,
   "id": "3659f524-fead-4db0-8ddd-8a22f95e5acd",
   "metadata": {},
   "outputs": [],
   "source": [
    "# Import necessary libraries\n",
    "import pandas as pd\n",
    "from sklearn.compose import ColumnTransformer\n",
    "from sklearn.ensemble import RandomForestClassifier\n",
    "from sklearn.impute import SimpleImputer\n",
    "from sklearn.model_selection import train_test_split\n",
    "from sklearn.pipeline import Pipeline\n",
    "from sklearn.preprocessing import StandardScaler, OneHotEncoder\n",
    "from sklearn.feature_selection import SelectFromModel\n",
    "\n",
    "# Load your dataset\n",
    "# Replace 'your_data.csv' with the actual dataset file path\n",
    "data = pd.read_csv('your_data.csv')\n",
    "\n",
    "# Split the data into features (X) and target (y)\n",
    "X = data.drop('target_column', axis=1)  # Replace 'target_column' with the actual target column name\n",
    "y = data['target_column']\n",
    "\n",
    "# Step 1: Automated Feature Selection\n",
    "# Use SelectFromModel to select important features\n",
    "feature_selection = SelectFromModel(RandomForestClassifier(n_estimators=100))\n",
    "feature_selection_pipe = Pipeline([\n",
    "    ('imputer', SimpleImputer(strategy='mean')),\n",
    "    ('scaler', StandardScaler()),\n",
    "    ('feature_selector', feature_selection)\n",
    "])\n",
    "\n",
    "# Step 2: Numerical Pipeline\n",
    "numerical_features = X.select_dtypes(include=['float64', 'int64']).columns\n",
    "numerical_pipeline = Pipeline([\n",
    "    ('imputer', SimpleImputer(strategy='mean')),\n",
    "    ('scaler', StandardScaler())\n",
    "])\n",
    "\n",
    "# Step 3: Categorical Pipeline\n",
    "categorical_features = X.select_dtypes(include=['object']).columns\n",
    "categorical_pipeline = Pipeline([\n",
    "    ('imputer', SimpleImputer(strategy='most_frequent')),\n",
    "    ('onehot', OneHotEncoder())\n",
    "])\n",
    "\n",
    "# Step 4: Combine Numerical and Categorical Pipelines\n",
    "preprocessor = ColumnTransformer(\n",
    "    transformers=[\n",
    "        ('num', numerical_pipeline, numerical_features),\n",
    "        ('cat', categorical_pipeline, categorical_features)\n",
    "    ])\n",
    "\n",
    "# Step 5: Final Model Pipeline\n",
    "model = Pipeline([\n",
    "    ('preprocessor', preprocessor),\n",
    "    ('classifier', RandomForestClassifier(n_estimators=100))\n",
    "])\n",
    "\n",
    "# Split data into train and test sets\n",
    "X_train, X_test, y_train, y_test = train_test_split(X, y, test_size=0.2, random_state=42)\n",
    "\n",
    "# Fit the model\n",
    "model.fit(X_train, y_train)\n",
    "\n",
    "# Evaluate the model\n",
    "accuracy = model.score(X_test, y_test)\n",
    "print(f\"Accuracy on the test dataset: {accuracy:.2f}\")\n",
    "\n",
    "# You can use other evaluation metrics as needed, like precision, recall, F1-score, etc.\n",
    "\n",
    "# Possible Improvements:\n",
    "# 1. Hyperparameter tuning for the Random Forest Classifier for better performance.\n",
    "# 2. Experiment with different imputation strategies (e.g., median for numerical, a custom value for categorical).\n",
    "# 3. Try different feature selection methods or thresholds to improve feature selection.\n",
    "# 4. Explore other preprocessing techniques, such as feature scaling methods, like Min-Max scaling.\n",
    "# 5. Consider feature engineering techniques if relevant to your problem."
   ]
  },
  {
   "cell_type": "code",
   "execution_count": null,
   "id": "ac479d4a-6eaa-442b-a70c-6153fa330682",
   "metadata": {},
   "outputs": [],
   "source": [
    "ans 2"
   ]
  },
  {
   "cell_type": "code",
   "execution_count": 2,
   "id": "5b913959-80d5-4321-81b9-247eb46ff494",
   "metadata": {},
   "outputs": [
    {
     "name": "stdout",
     "output_type": "stream",
     "text": [
      "Accuracy on the test dataset: 1.00\n"
     ]
    }
   ],
   "source": [
    "# Import necessary libraries\n",
    "from sklearn.datasets import load_iris\n",
    "from sklearn.ensemble import RandomForestClassifier, VotingClassifier\n",
    "from sklearn.linear_model import LogisticRegression\n",
    "from sklearn.model_selection import train_test_split\n",
    "from sklearn.pipeline import Pipeline\n",
    "from sklearn.preprocessing import StandardScaler\n",
    "\n",
    "# Load the Iris dataset\n",
    "iris = load_iris()\n",
    "X, y = iris.data, iris.target\n",
    "\n",
    "# Split data into train and test sets\n",
    "X_train, X_test, y_train, y_test = train_test_split(X, y, test_size=0.2, random_state=42)\n",
    "\n",
    "# Step 1: Create individual classifiers and pipelines\n",
    "rf_classifier = RandomForestClassifier(n_estimators=100, random_state=42)\n",
    "logistic_classifier = LogisticRegression(random_state=42)\n",
    "\n",
    "# Step 2: Create the Voting Classifier pipeline\n",
    "voting_classifier = VotingClassifier(\n",
    "    estimators=[('random_forest', rf_classifier), ('logistic_regression', logistic_classifier)],\n",
    "    voting='hard'  # You can use 'soft' for weighted voting based on probability\n",
    ")\n",
    "\n",
    "# Step 3: Build the main pipeline\n",
    "pipeline = Pipeline([\n",
    "    ('scaler', StandardScaler()),  # Standardize the features\n",
    "    ('voting', voting_classifier)\n",
    "])\n",
    "\n",
    "# Step 4: Train the pipeline\n",
    "pipeline.fit(X_train, y_train)\n",
    "\n",
    "# Step 5: Evaluate the model\n",
    "accuracy = pipeline.score(X_test, y_test)\n",
    "print(f\"Accuracy on the test dataset: {accuracy:.2f}\")\n"
   ]
  },
  {
   "cell_type": "code",
   "execution_count": null,
   "id": "390f480e-95c4-4b0c-80c4-58bd6df9a05d",
   "metadata": {},
   "outputs": [],
   "source": []
  }
 ],
 "metadata": {
  "kernelspec": {
   "display_name": "Python 3 (ipykernel)",
   "language": "python",
   "name": "python3"
  },
  "language_info": {
   "codemirror_mode": {
    "name": "ipython",
    "version": 3
   },
   "file_extension": ".py",
   "mimetype": "text/x-python",
   "name": "python",
   "nbconvert_exporter": "python",
   "pygments_lexer": "ipython3",
   "version": "3.10.8"
  }
 },
 "nbformat": 4,
 "nbformat_minor": 5
}
