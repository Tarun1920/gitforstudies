{
 "cells": [
  {
   "cell_type": "code",
   "execution_count": null,
   "id": "8c83b0b2-7c1e-4fca-b959-e4e34a2ac69a",
   "metadata": {},
   "outputs": [],
   "source": [
    "ans 1"
   ]
  },
  {
   "cell_type": "code",
   "execution_count": 1,
   "id": "e2d68e7c-0061-4487-83db-fde494b94557",
   "metadata": {},
   "outputs": [
    {
     "name": "stdout",
     "output_type": "stream",
     "text": [
      "F-value: 0.02680965147453083\n",
      "P-value: 0.8739995486529608\n"
     ]
    }
   ],
   "source": [
    "import scipy.stats as stats\n",
    "\n",
    "def variance_ratio_test(array1, array2):\n",
    "    # Perform the variance ratio test\n",
    "    f_statistic, p_value = stats.f_oneway(array1, array2)\n",
    "    \n",
    "    return f_statistic, p_value\n",
    "\n",
    "# Example usage:\n",
    "data1 = [15, 20, 25, 30, 35]\n",
    "data2 = [10, 18, 22, 32, 38]\n",
    "f_value, p_value = variance_ratio_test(data1, data2)\n",
    "print(\"F-value:\", f_value)\n",
    "print(\"P-value:\", p_value)"
   ]
  },
  {
   "cell_type": "code",
   "execution_count": null,
   "id": "d76be657-b71a-4f2c-8d47-f80a70faa8de",
   "metadata": {},
   "outputs": [],
   "source": [
    "ans 2"
   ]
  },
  {
   "cell_type": "code",
   "execution_count": 2,
   "id": "fa6489f3-d797-4135-ad75-b9c956e22e3b",
   "metadata": {},
   "outputs": [
    {
     "name": "stdout",
     "output_type": "stream",
     "text": [
      "Critical F-value: 4.07682306196248\n"
     ]
    }
   ],
   "source": [
    "import scipy.stats as stats\n",
    "\n",
    "def find_critical_f_value(alpha, dfn, dfd):\n",
    "    # Calculate the critical F-value\n",
    "    critical_f_value = stats.f.ppf(1 - alpha/2, dfn, dfd)\n",
    "    \n",
    "    return critical_f_value\n",
    "\n",
    "# Example usage:\n",
    "alpha = 0.05\n",
    "dfn = 3  # Degrees of freedom for the numerator\n",
    "dfd = 16  # Degrees of freedom for the denominator\n",
    "\n",
    "critical_f = find_critical_f_value(alpha, dfn, dfd)\n",
    "print(\"Critical F-value:\", critical_f)\n"
   ]
  },
  {
   "cell_type": "code",
   "execution_count": null,
   "id": "13e3b80f-6f11-4caf-9366-dfef107889cd",
   "metadata": {},
   "outputs": [],
   "source": [
    "ans 3"
   ]
  },
  {
   "cell_type": "code",
   "execution_count": 3,
   "id": "d106790a-66e8-4427-8496-721e6229f9cf",
   "metadata": {},
   "outputs": [
    {
     "name": "stdout",
     "output_type": "stream",
     "text": [
      "F-value: 0.7242619039631234\n",
      "Degrees of freedom (numerator): 29\n",
      "Degrees of freedom (denominator): 29\n",
      "P-value: 0.3901538481296291\n"
     ]
    }
   ],
   "source": [
    "import numpy as np\n",
    "import scipy.stats as stats\n",
    "\n",
    "def perform_f_test(variance1, variance2, sample_size1, sample_size2):\n",
    "    # Generate random samples from normal distributions\n",
    "    np.random.seed(0)  # For reproducibility\n",
    "    sample1 = np.random.normal(0, np.sqrt(variance1), sample_size1)\n",
    "    sample2 = np.random.normal(0, np.sqrt(variance2), sample_size2)\n",
    "    \n",
    "    # Calculate the F-statistic and p-value for the F-test\n",
    "    f_statistic = np.var(sample1, ddof=1) / np.var(sample2, ddof=1)\n",
    "    dfn = sample_size1 - 1\n",
    "    dfd = sample_size2 - 1\n",
    "    p_value = 2 * min(stats.f.cdf(f_statistic, dfn, dfd), 1 - stats.f.cdf(f_statistic, dfn, dfd))\n",
    "    \n",
    "    return f_statistic, dfn, dfd, p_value\n",
    "\n",
    "# Example usage:\n",
    "variance1 = 1.0\n",
    "variance2 = 2.0\n",
    "sample_size1 = 30\n",
    "sample_size2 = 30\n",
    "\n",
    "f_statistic, dfn, dfd, p_value = perform_f_test(variance1, variance2, sample_size1, sample_size2)\n",
    "print(\"F-value:\", f_statistic)\n",
    "print(\"Degrees of freedom (numerator):\", dfn)\n",
    "print(\"Degrees of freedom (denominator):\", dfd)\n",
    "print(\"P-value:\", p_value)\n"
   ]
  },
  {
   "cell_type": "code",
   "execution_count": null,
   "id": "86bea9a0-1d9a-4ed8-b14a-eda972ebd647",
   "metadata": {},
   "outputs": [],
   "source": [
    "ans 4"
   ]
  },
  {
   "cell_type": "markdown",
   "id": "36a6220e-48f2-417d-95e4-a3c877f13e05",
   "metadata": {},
   "source": [
    "Define the null hypothesis (H0) and alternative hypothesis (H1):\n",
    "\n",
    "Null Hypothesis (H0): The variances of the two populations are equal (σ1^2 = σ2^2).\n",
    "Alternative Hypothesis (H1): The variances of the two populations are not equal (σ1^2 ≠ σ2^2).\n",
    "Set the significance level (α) to 0.05 (5%).\n",
    "\n",
    "Calculate the F-statistic using the formula:\n",
    "F = (variance of the first population) / (variance of the second population)\n",
    "\n",
    "Determine the degrees of freedom for the numerator and denominator:\n",
    "\n",
    "Degrees of Freedom (Numerator, dfn) = Number of samples in the first population - 1\n",
    "Degrees of Freedom (Denominator, dfd) = Number of samples in the second population - 1\n",
    "Find the critical F-value for a two-tailed test at the 5% significance level (α = 0.05) using the scipy.stats library.\n",
    "\n",
    "Compare the calculated F-statistic with the critical F-value:\n",
    "\n",
    "If the calculated F-statistic is greater than the critical F-value, reject the null hypothesis.\n",
    "If the calculated F-statistic is less than or equal to the critical F-value, fail to reject the null hypothesis.\n"
   ]
  },
  {
   "cell_type": "code",
   "execution_count": 4,
   "id": "b58336ae-d12b-4766-81ce-52e76cce4623",
   "metadata": {},
   "outputs": [
    {
     "name": "stdout",
     "output_type": "stream",
     "text": [
      "Fail to reject the null hypothesis: Variances are not significantly different.\n"
     ]
    }
   ],
   "source": [
    "import scipy.stats as stats\n",
    "\n",
    "# Population variances\n",
    "variance1 = 10\n",
    "variance2 = 15\n",
    "\n",
    "# Sample sizes\n",
    "n1 = 12\n",
    "n2 = 12\n",
    "\n",
    "# Calculate the F-statistic\n",
    "f_statistic = variance1 / variance2\n",
    "\n",
    "# Degrees of freedom\n",
    "dfn = n1 - 1\n",
    "dfd = n2 - 1\n",
    "\n",
    "# Set the significance level\n",
    "alpha = 0.05\n",
    "\n",
    "# Find the critical F-value for a two-tailed test\n",
    "critical_f_value = stats.f.ppf(1 - alpha/2, dfn, dfd)\n",
    "\n",
    "# Compare the calculated F-statistic with the critical F-value\n",
    "if f_statistic > critical_f_value:\n",
    "    print(\"Reject the null hypothesis: Variances are significantly different.\")\n",
    "else:\n",
    "    print(\"Fail to reject the null hypothesis: Variances are not significantly different.\")\n"
   ]
  },
  {
   "cell_type": "code",
   "execution_count": null,
   "id": "f7e93ef0-e9c7-4c6d-887e-440e762bcaf0",
   "metadata": {},
   "outputs": [],
   "source": [
    "ans 5"
   ]
  },
  {
   "cell_type": "code",
   "execution_count": 5,
   "id": "0d9e8d87-b371-413a-b525-8f5b1a30e724",
   "metadata": {},
   "outputs": [
    {
     "name": "stdout",
     "output_type": "stream",
     "text": [
      "Fail to reject the null hypothesis: The claimed variance is justified.\n"
     ]
    }
   ],
   "source": [
    "import scipy.stats as stats\n",
    "\n",
    "# Provided data\n",
    "sample_variance = 0.006\n",
    "claimed_variance = 0.005\n",
    "sample_size = 25\n",
    "\n",
    "# Calculate the F-statistic\n",
    "f_statistic = sample_variance / claimed_variance\n",
    "\n",
    "# Degrees of freedom\n",
    "dfn = sample_size - 1\n",
    "dfd = 24  # Degrees of freedom for the claimed population variance\n",
    "\n",
    "# Set the significance level\n",
    "alpha = 0.01\n",
    "\n",
    "# Find the critical F-values for a two-tailed test\n",
    "critical_f_value_lower = stats.f.ppf(alpha / 2, dfn, dfd)\n",
    "critical_f_value_upper = stats.f.ppf(1 - alpha / 2, dfn, dfd)\n",
    "\n",
    "# Compare the calculated F-statistic with the critical F-values\n",
    "if f_statistic < critical_f_value_lower or f_statistic > critical_f_value_upper:\n",
    "    print(\"Reject the null hypothesis: The claimed variance is not justified.\")\n",
    "else:\n",
    "    print(\"Fail to reject the null hypothesis: The claimed variance is justified.\")"
   ]
  },
  {
   "cell_type": "code",
   "execution_count": null,
   "id": "a0ee6fd4-82bf-472f-949f-7f5d779601a9",
   "metadata": {},
   "outputs": [],
   "source": [
    "ans 6"
   ]
  },
  {
   "cell_type": "code",
   "execution_count": 6,
   "id": "f14051c0-68f3-481d-8615-7cbf5a3da1fc",
   "metadata": {},
   "outputs": [
    {
     "name": "stdout",
     "output_type": "stream",
     "text": [
      "Mean: 1.25\n",
      "Variance: 1.9097222222222223\n"
     ]
    }
   ],
   "source": [
    "def calculate_f_distribution_mean_and_variance(dfn, dfd):\n",
    "    # Calculate the mean (μ)\n",
    "    mean = dfd / (dfd - 2)\n",
    "    \n",
    "    # Calculate the variance (σ^2)\n",
    "    variance = (2 * dfd**2 * (dfd + dfn - 2)) / (dfn * (dfd - 2)**2 * (dfd - 4))\n",
    "    \n",
    "    return mean, variance\n",
    "\n",
    "# Example usage:\n",
    "numerator_degrees_of_freedom = 3\n",
    "denominator_degrees_of_freedom = 10\n",
    "\n",
    "mean, variance = calculate_f_distribution_mean_and_variance(numerator_degrees_of_freedom, denominator_degrees_of_freedom)\n",
    "print(\"Mean:\", mean)\n",
    "print(\"Variance:\", variance)"
   ]
  },
  {
   "cell_type": "code",
   "execution_count": null,
   "id": "27143c77-f3a2-4699-8e8d-bd56343c7f96",
   "metadata": {},
   "outputs": [],
   "source": [
    "ans 7"
   ]
  },
  {
   "cell_type": "code",
   "execution_count": 7,
   "id": "0641f80d-71c2-42a9-a9ad-a78de8699517",
   "metadata": {},
   "outputs": [
    {
     "name": "stdout",
     "output_type": "stream",
     "text": [
      "Fail to reject the null hypothesis: The variances are not significantly different.\n"
     ]
    }
   ],
   "source": [
    "import scipy.stats as stats\n",
    "\n",
    "# Sample variances\n",
    "sample_variance1 = 25\n",
    "sample_variance2 = 20\n",
    "\n",
    "# Sample sizes\n",
    "sample_size1 = 10\n",
    "sample_size2 = 15\n",
    "\n",
    "# Calculate the F-statistic\n",
    "f_statistic = sample_variance1 / sample_variance2\n",
    "\n",
    "# Degrees of freedom\n",
    "dfn = sample_size1 - 1\n",
    "dfd = sample_size2 - 1\n",
    "\n",
    "# Set the significance level\n",
    "alpha = 0.10\n",
    "\n",
    "# Find the critical F-values for a two-tailed test\n",
    "critical_f_value_lower = stats.f.ppf(alpha / 2, dfn, dfd)\n",
    "critical_f_value_upper = stats.f.ppf(1 - alpha / 2, dfn, dfd)\n",
    "\n",
    "# Compare the calculated F-statistic with the critical F-values\n",
    "if f_statistic < critical_f_value_lower or f_statistic > critical_f_value_upper:\n",
    "    print(\"Reject the null hypothesis: The variances are significantly different.\")\n",
    "else:\n",
    "    print(\"Fail to reject the null hypothesis: The variances are not significantly different.\")\n"
   ]
  },
  {
   "cell_type": "code",
   "execution_count": null,
   "id": "a126ddbd-bffe-4e62-8968-680d60ad9821",
   "metadata": {},
   "outputs": [],
   "source": [
    "ans 8"
   ]
  },
  {
   "cell_type": "code",
   "execution_count": 8,
   "id": "83d108b1-58cc-4548-bc0a-424f1fddb7da",
   "metadata": {},
   "outputs": [
    {
     "name": "stdout",
     "output_type": "stream",
     "text": [
      "Fail to reject the null hypothesis: The variances are not significantly different.\n"
     ]
    }
   ],
   "source": [
    "import scipy.stats as stats\n",
    "\n",
    "# Waiting times data\n",
    "restaurant_a = [24, 25, 28, 23, 22, 20, 27]\n",
    "restaurant_b = [31, 33, 35, 30, 32, 36]\n",
    "\n",
    "# Calculate the sample variances\n",
    "variance_a = sum([(x - sum(restaurant_a) / len(restaurant_a)) ** 2 for x in restaurant_a]) / (len(restaurant_a) - 1)\n",
    "variance_b = sum([(x - sum(restaurant_b) / len(restaurant_b)) ** 2 for x in restaurant_b]) / (len(restaurant_b) - 1)\n",
    "\n",
    "# Degrees of freedom\n",
    "dfn = len(restaurant_a) - 1\n",
    "dfd = len(restaurant_b) - 1\n",
    "\n",
    "# Calculate the F-statistic\n",
    "f_statistic = variance_a / variance_b\n",
    "\n",
    "# Set the significance level\n",
    "alpha = 0.05\n",
    "\n",
    "# Find the critical F-values for a two-tailed test\n",
    "critical_f_value_lower = stats.f.ppf(alpha / 2, dfn, dfd)\n",
    "critical_f_value_upper = stats.f.ppf(1 - alpha / 2, dfn, dfd)\n",
    "\n",
    "# Compare the calculated F-statistic with the critical F-values\n",
    "if f_statistic < critical_f_value_lower or f_statistic > critical_f_value_upper:\n",
    "    print(\"Reject the null hypothesis: The variances are significantly different.\")\n",
    "else:\n",
    "    print(\"Fail to reject the null hypothesis: The variances are not significantly different.\")\n"
   ]
  },
  {
   "cell_type": "code",
   "execution_count": null,
   "id": "a5aa622a-e04f-472f-b987-ff7e78cd4dfa",
   "metadata": {},
   "outputs": [],
   "source": [
    "ans 9"
   ]
  },
  {
   "cell_type": "code",
   "execution_count": 9,
   "id": "fce326e4-de47-43b2-a4f9-5dc317361892",
   "metadata": {},
   "outputs": [
    {
     "name": "stdout",
     "output_type": "stream",
     "text": [
      "Fail to reject the null hypothesis: The variances are not significantly different.\n"
     ]
    }
   ],
   "source": [
    "import scipy.stats as stats\n",
    "\n",
    "# Test scores data\n",
    "group_a = [80, 85, 90, 92, 87, 83]\n",
    "group_b = [75, 78, 82, 79, 81, 84]\n",
    "\n",
    "# Calculate the sample variances\n",
    "variance_a = sum([(x - sum(group_a) / len(group_a)) ** 2 for x in group_a]) / (len(group_a) - 1)\n",
    "variance_b = sum([(x - sum(group_b) / len(group_b)) ** 2 for x in group_b]) / (len(group_b) - 1)\n",
    "\n",
    "# Degrees of freedom\n",
    "dfn = len(group_a) - 1\n",
    "dfd = len(group_b) - 1\n",
    "\n",
    "# Calculate the F-statistic\n",
    "f_statistic = variance_a / variance_b\n",
    "\n",
    "# Set the significance level\n",
    "alpha = 0.01\n",
    "\n",
    "# Find the critical F-values for a two-tailed test\n",
    "critical_f_value_lower = stats.f.ppf(alpha / 2, dfn, dfd)\n",
    "critical_f_value_upper = stats.f.ppf(1 - alpha / 2, dfn, dfd)\n",
    "\n",
    "# Compare the calculated F-statistic with the critical F-values\n",
    "if f_statistic < critical_f_value_lower or f_statistic > critical_f_value_upper:\n",
    "    print(\"Reject the null hypothesis: The variances are significantly different.\")\n",
    "else:\n",
    "    print(\"Fail to reject the null hypothesis: The variances are not significantly different.\")\n"
   ]
  },
  {
   "cell_type": "code",
   "execution_count": null,
   "id": "99a9f621-4eea-4b5e-8116-a1d3d564db58",
   "metadata": {},
   "outputs": [],
   "source": []
  },
  {
   "cell_type": "code",
   "execution_count": null,
   "id": "863289c0-6e0e-4d9f-8f5d-86ea8f9ce75a",
   "metadata": {},
   "outputs": [],
   "source": []
  },
  {
   "cell_type": "code",
   "execution_count": null,
   "id": "9f32ea16-4824-425c-aeb0-e45d97536f86",
   "metadata": {},
   "outputs": [],
   "source": []
  },
  {
   "cell_type": "code",
   "execution_count": null,
   "id": "836df58e-094a-4724-b65a-8620979cf02f",
   "metadata": {},
   "outputs": [],
   "source": [
    "complete"
   ]
  },
  {
   "cell_type": "code",
   "execution_count": null,
   "id": "73a025d6-e285-4e73-a749-d1f8f2dffc0b",
   "metadata": {},
   "outputs": [],
   "source": []
  }
 ],
 "metadata": {
  "kernelspec": {
   "display_name": "Python 3 (ipykernel)",
   "language": "python",
   "name": "python3"
  },
  "language_info": {
   "codemirror_mode": {
    "name": "ipython",
    "version": 3
   },
   "file_extension": ".py",
   "mimetype": "text/x-python",
   "name": "python",
   "nbconvert_exporter": "python",
   "pygments_lexer": "ipython3",
   "version": "3.10.8"
  }
 },
 "nbformat": 4,
 "nbformat_minor": 5
}
