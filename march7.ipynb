{
 "cells": [
  {
   "cell_type": "code",
   "execution_count": null,
   "id": "fee37873-8fef-4dc0-b22e-ddc54ced1f42",
   "metadata": {},
   "outputs": [],
   "source": [
    "ans 1"
   ]
  },
  {
   "cell_type": "markdown",
   "id": "e73dd693-cd7d-418c-b175-cb0b46e37030",
   "metadata": {},
   "source": [
    "The three measures of central tendency are:\n",
    "\n",
    "Mean (Average): It is calculated by summing up all the values in a dataset and then dividing the sum by the number of values. The mean is sensitive to extreme values.\n",
    "\n",
    "Median: It is the middle value in a dataset when it is ordered from least to greatest. If there is an even number of observations, the median is the average of the two middle values. The median is less sensitive to extreme values than the mean.\n",
    "\n",
    "Mode: It is the value that appears most frequently in a dataset. A dataset may have one mode (unimodal), more than one mode (multimodal), or no mode at all. Unlike the mean and median, the mode is not necessarily unique.\n",
    "\n"
   ]
  },
  {
   "cell_type": "code",
   "execution_count": null,
   "id": "da9aff18-dac7-460f-a9c7-68a9f745f316",
   "metadata": {},
   "outputs": [],
   "source": [
    "ans 2"
   ]
  },
  {
   "cell_type": "markdown",
   "id": "fb66cf73-7852-4f6b-af79-891a4389ad20",
   "metadata": {},
   "source": [
    "The mean, median, and mode are three different measures of central tendency used to describe the typical or central value of a dataset. Here's how they differ and how they are used:\n",
    "\n",
    "Mean (Average):\n",
    "\n",
    "Calculation: It is calculated by summing up all the values in a dataset and then dividing the sum by the number of values.\n",
    "Sensitivity to Data: The mean is sensitive to extreme values or outliers. A single outlier can significantly affect the mean.\n",
    "Use: The mean is commonly used when you want to find the arithmetic average of a dataset. It is often used in situations where the data is normally distributed or when you want to calculate the center of mass.\n",
    "Median:\n",
    "\n",
    "Calculation: The median is the middle value in a dataset when it is ordered from least to greatest. If there's an even number of observations, the median is the average of the two middle values.\n",
    "Sensitivity to Data: The median is less sensitive to extreme values or outliers compared to the mean. It is a robust measure of central tendency.\n",
    "Use: The median is often used when data is skewed, has outliers, or is not normally distributed. It gives you a value that represents the middle of the dataset.\n",
    "Mode:\n",
    "\n",
    "Calculation: The mode is the value that appears most frequently in a dataset. A dataset may have one mode (unimodal), more than one mode (multimodal), or no mode at all.\n",
    "Sensitivity to Data: The mode is not affected by extreme values or outliers since it is based solely on the frequency of values.\n",
    "Use: The mode is useful when you want to find the most common value in a dataset. It is often used in categorical or discrete data where you want to identify the most frequently occurring category.\n"
   ]
  },
  {
   "cell_type": "code",
   "execution_count": null,
   "id": "2478cd1f-a54f-4ebb-ba05-e2d7f92ab29a",
   "metadata": {},
   "outputs": [],
   "source": [
    "ans 3"
   ]
  },
  {
   "cell_type": "markdown",
   "id": "0d751cf1-6ef9-4824-a048-4b1848cbfb0f",
   "metadata": {},
   "source": [
    "To measure the three measures of central tendency (mean, median, and mode) for the given height data, let's calculate each one:\n",
    "\n",
    "Height data: [178, 177, 176, 177, 178.2, 178, 175, 179, 180, 175, 178.9, 176.2, 177, 172.5, 178, 176.5]\n",
    "\n",
    "Mean (Average):\n",
    "\n",
    "Calculate the sum of all values and divide by the number of values:\n",
    "Mean = (178 + 177 + 176 + 177 + 178.2 + 178 + 175 + 179 + 180 + 175 + 178.9 + 176.2 + 177 + 172.5 + 178 + 176.5) / 16\n",
    "Mean ≈ 177.8625\n",
    "Median:\n",
    "\n",
    "First, order the data from least to greatest:\n",
    "Sorted data: [172.5, 175, 175, 176, 176, 176.2, 177, 177, 177, 178, 178, 178, 178.2, 178.9, 179, 180]\n",
    "Since there is an even number of values (16), the median is the average of the two middle values:\n",
    "Median = (177 + 178) / 2\n",
    "Median = 177.5\n",
    "Mode:\n",
    "\n",
    "The mode is the value that appears most frequently in the data:\n",
    "In the sorted data, you can see that 177 and 178 occur most frequently (3 times each).\n",
    "So, the dataset has two modes: 177 and 178.\n",
    "In summary, for the given height data:\n",
    "\n",
    "Mean ≈ 177.8625\n",
    "Median = 177.5\n",
    "Mode = 177 and 178 (bimodal)\n",
    "\n",
    "\n",
    "\n"
   ]
  },
  {
   "cell_type": "code",
   "execution_count": null,
   "id": "f9733b11-05c5-4659-9241-db5ef8ff054e",
   "metadata": {},
   "outputs": [],
   "source": [
    "ans 4"
   ]
  },
  {
   "cell_type": "markdown",
   "id": "65fc3c2c-8414-4b40-a5ad-4d95bc4e474e",
   "metadata": {},
   "source": [
    "Data: [178, 177, 176, 177, 178.2, 178, 175, 179, 180, 175, 178.9, 176.2, 177, 172.5, 178, 176.5]\n",
    "\n",
    "Calculate the mean:\n",
    "Mean = (178 + 177 + 176 + 177 + 178.2 + 178 + 175 + 179 + 180 + 175 + 178.9 + 176.2 + 177 + 172.5 + 178 + 176.5) / 16\n",
    "Mean ≈ 177.8625\n",
    "\n",
    "Find the squared differences from the mean for each data point:\n",
    "\n",
    "Squared Differences:\n",
    "[(178 - 177.8625)^2, (177 - 177.8625)^2, (176 - 177.8625)^2, ...]\n",
    "\n",
    "Calculate the mean of the squared differences:\n",
    "\n",
    "Mean of Squared Differences = (Sum of Squared Differences) / (Number of Data Points - 1)\n",
    "\n",
    "Sum of Squared Differences ≈ 41.73625\n",
    "Mean of Squared Differences ≈ 41.73625 / (16 - 1) ≈ 2.75441667\n",
    "\n",
    "Take the square root of the mean of squared differences to find the standard deviation:\n",
    "\n",
    "Standard Deviation ≈ √2.75441667 ≈ 1.6595 (rounded to four decimal places\n",
    " standard deviation of the given data is aprrox. 1.6595"
   ]
  },
  {
   "cell_type": "code",
   "execution_count": null,
   "id": "b8c41419-3787-4920-b960-bd15a266b8e8",
   "metadata": {},
   "outputs": [],
   "source": [
    "ans 5"
   ]
  },
  {
   "cell_type": "markdown",
   "id": "58a2cdea-b5ca-4146-8a44-4d087f61749b",
   "metadata": {},
   "source": [
    "\n",
    "Measures of dispersion, such as range, variance, and standard deviation, are used to describe the spread or variability of a dataset. They provide insights into how the data points are distributed around the central tendency (mean, median, etc.). Here's how these measures are used and an example to illustrate:\n",
    "\n",
    "Range:\n",
    "\n",
    "The range is the simplest measure of dispersion. It is calculated as the difference between the maximum and minimum values in a dataset.\n",
    "Range = Maximum Value - Minimum Value\n",
    "It provides an idea of the total spread of the data but doesn't consider all data points.\n",
    "Example: Consider a dataset of the heights of students in a class. If the tallest student is 180 cm, and the shortest is 150 cm, the range is 30 cm, indicating a 30 cm spread in heights within the class.\n",
    "\n",
    "Variance:\n",
    "\n",
    "Variance measures the average of the squared differences between each data point and the mean. It provides a more comprehensive assessment of the spread.\n",
    "Variance = (Σ (xi - μ)^2) / N, where Σ represents the sum of, xi is each data point, μ is the mean, and N is the number of data points.\n",
    "Example: Consider a dataset of test scores for a group of students. A higher variance implies that the scores are more spread out from the mean, indicating greater variability among students' performance.\n",
    "\n",
    "Standard Deviation:\n",
    "\n",
    "The standard deviation is the square root of the variance. It is often preferred because it is in the same unit as the data and provides a more interpretable measure of dispersion.\n",
    "Standard Deviation = √(Variance)\n",
    "Example: Suppose you have a dataset of daily temperatures in a city. A lower standard deviation means that temperatures are relatively consistent and don't vary much from the average, while a higher standard deviation indicates more temperature fluctuations."
   ]
  },
  {
   "cell_type": "code",
   "execution_count": null,
   "id": "5546a4b5-027e-41fe-9288-42772420087e",
   "metadata": {},
   "outputs": [],
   "source": [
    "ans 6"
   ]
  },
  {
   "cell_type": "markdown",
   "id": "2e07490d-b9c0-46a7-a70f-04d24eb2090d",
   "metadata": {},
   "source": [
    "A Venn diagram is a visual representation of the relationships between sets. It consists of overlapping circles, each representing a set, and the areas of overlap indicate the elements that are common to those sets. Venn diagrams are often used in mathematics, logic, statistics, and various fields to illustrate the concepts of set theory and the relationships between different groups of items.\n",
    "\n",
    "Key components of a Venn diagram:\n",
    "\n",
    "Circles or Ellipses: Each circle or ellipse in a Venn diagram represents a set. The size and placement of these circles can vary depending on the specific information being conveyed.\n",
    "\n",
    "Intersecting Regions: The areas where the circles or ellipses overlap represent the elements that are common to the sets. These areas are known as the \"intersection.\"\n",
    "\n",
    "Non-Overlapping Regions: The portions of each circle or ellipse that do not overlap with any other circle represent the elements that are unique to each set."
   ]
  },
  {
   "cell_type": "code",
   "execution_count": null,
   "id": "14340003-c91a-4d6c-a9ec-1ba4a60b62a8",
   "metadata": {},
   "outputs": [],
   "source": [
    "ans 7"
   ]
  },
  {
   "cell_type": "markdown",
   "id": "ee7341ad-6621-4dcf-af91-da4637468b08",
   "metadata": {},
   "source": [
    "(i) A ∩ B (Intersection):\n",
    "\n",
    "The intersection of two sets consists of elements that are common to both sets.\n",
    "A ∩ B = {x | x is in A and x is in B}\n",
    "A ∩ B = {2, 6} (These are the elements that appear in both A and B.)\n",
    "\n",
    "(ii) A ∪ B (Union):\n",
    "\n",
    "The union of two sets consists of all the unique elements from both sets.\n",
    "A ∪ B = {x | x is in A or x is in B}\n",
    "A ∪ B = {0, 2, 3, 4, 5, 6, 7, 8, 10} (These are all the distinct elements from both A and B.)\n",
    "So, the results are:\n",
    "(i) A ∩ B = {2, 6}\n",
    "(ii) A ∪ B = {0, 2, 3, 4, 5, 6, 7, 8, 10}\n",
    "\n",
    "\n",
    "\n",
    "\n"
   ]
  },
  {
   "cell_type": "code",
   "execution_count": null,
   "id": "f6cf18f2-ae2b-4c66-a92a-562be22ce4b4",
   "metadata": {},
   "outputs": [],
   "source": [
    "ansn 8"
   ]
  },
  {
   "cell_type": "markdown",
   "id": "138390b3-3a2a-433d-bf0a-c2c1c34823b7",
   "metadata": {},
   "source": [
    "Skewness is a statistical measure that describes the asymmetry or lack of symmetry in the distribution of data. In other words, it quantifies the degree to which the data deviates from a perfectly symmetrical, bell-shaped distribution, which is often referred to as a normal distribution or a symmetric distribution. Skewness is an important concept in descriptive statistics and data analysis because it helps in understanding the shape of a dataset's distribution.\n",
    "\n",
    "There are three main types of skewness:\n",
    "\n",
    "Positive Skew (Right Skew): In a positively skewed distribution, the tail on the right side (the upper tail) is longer or fatter than the left tail (the lower tail). This indicates that the majority of data points are concentrated on the left side of the distribution, with a few extremely high values on the right side. The mean is typically greater than the median in a positively skewed distribution.\n",
    "\n",
    "Positive Skew\n",
    "\n",
    "Negative Skew (Left Skew): In a negatively skewed distribution, the tail on the left side (the lower tail) is longer or fatter than the right tail (the upper tail). This suggests that most data points are concentrated on the right side of the distribution, with a few extremely low values on the left side. In a negatively skewed distribution, the mean is typically less than the median.\n",
    "\n",
    "Negative Skew\n",
    "\n",
    "Zero Skew (Symmetrical): A distribution is considered to have zero skew when it is perfectly symmetrical, meaning the left and right tails are of equal length and the data is evenly distributed around the mean. In a symmetrical distribution, the mean and median are equal.\n",
    "\n",
    "Zero Skew\n",
    "\n",
    "Skewness can be calculated using different statistical formulas, with the most common one being Pearson's first coefficient of skewness:\n",
    "\n",
    "�\n",
    "�\n",
    "�\n",
    "�\n",
    "�\n",
    "�\n",
    "�\n",
    "�\n",
    "=\n",
    "3\n",
    "(\n",
    "Mean\n",
    "−\n",
    "Median\n",
    ")\n",
    "Standard Deviation\n",
    "Skewness= \n",
    "Standard Deviation\n",
    "3(Mean−Median)\n",
    "​\n"
   ]
  },
  {
   "cell_type": "code",
   "execution_count": null,
   "id": "8434be4a-18af-4e0b-a1aa-a90b9b147951",
   "metadata": {},
   "outputs": [],
   "source": [
    "ans 9"
   ]
  },
  {
   "cell_type": "markdown",
   "id": "b53a520f-40f2-4466-9530-f9d41bbb8840",
   "metadata": {},
   "source": [
    "The mean is greater than the median.\n",
    "The median is typically closer to the left (lower) tail of the distribution where the majority of data points are concentrated.\n",
    "So, in a right-skewed distribution, the position of the median is to the left of the mean."
   ]
  },
  {
   "cell_type": "code",
   "execution_count": null,
   "id": "adafcdd6-7c37-444a-94f1-88a52919b704",
   "metadata": {},
   "outputs": [],
   "source": [
    "ans 10"
   ]
  },
  {
   "cell_type": "markdown",
   "id": "2ad867e5-d3f0-40df-9d97-2f958f8ac165",
   "metadata": {},
   "source": [
    "\n",
    "Covariance and correlation are both measures used in statistics to assess the relationship between two variables. However, they serve different purposes and have distinct properties:\n",
    "\n",
    "Covariance:\n",
    "\n",
    "Definition: Covariance measures the degree to which two random variables change together. It indicates whether an increase in one variable corresponds to an increase or decrease in another. A positive covariance indicates a positive relationship (as one variable increases, the other tends to increase), while a negative covariance suggests a negative relationship (as one variable increases, the other tends to decrease).\n",
    "\n",
    "Units of Measurement: The units of covariance are the product of the units of the two variables. Therefore, the magnitude of covariance is sensitive to the scale of the variables.\n",
    "\n",
    "Range: The range of covariance is unbounded, which means it can take any real value.\n",
    "\n",
    "Interpretation: The magnitude of covariance doesn't provide a clear measure of the strength of the relationship between variables, making it challenging to compare covariances across different datasets.\n",
    "\n",
    "Correlation:\n",
    "\n",
    "Definition: Correlation is a standardized measure that assesses the strength and direction of the linear relationship between two variables. It scales the covariance by the product of the standard deviations of the two variables, resulting in a value between -1 and 1. A correlation of 1 indicates a perfect positive linear relationship, -1 represents a perfect negative linear relationship, and 0 means no linear relationship.\n",
    "\n",
    "Units of Measurement: Correlation is a unitless measure, which means it's not affected by the scale of the variables.\n",
    "\n",
    "Range: Correlation values are bounded between -1 and 1.\n",
    "\n",
    "Interpretation: Correlation provides a clear measure of the strength and direction of a linear relationship between variables. It's easier to interpret, and the magnitude of the correlation can be used to compare relationships across different datasets.\n",
    "\n",
    "Usage in Statistical Analysis:\n",
    "\n",
    "Covariance: Covariance is primarily used to calculate correlation. It has limited direct use in statistical analysis due to its sensitivity to variable scales. However, it's a fundamental component in the calculation of the Pearson correlation coefficient, which is a widely used correlation measure.\n",
    "\n",
    "Correlation: Correlation is extensively used in statistical analysis to quantify and understand the relationship between two variables. Pearson's correlation coefficient is used for linear relationships, while other correlation measures like Spearman's rank correlation or Kendall's tau are employed when dealing with non-linear or ranked data. Correlation helps in tasks such as assessing the impact of one variable on another, identifying associations in data, and making predictions based on the relationship between variables.\n",
    "\n",
    "In summary, while covariance and correlation both assess the relationship between variables, correlation is more commonly used due to its standardized scale, making it easier to interpret and compare. It provides valuable insights into the strength and direction of linear relationships between variables, making it a fundamental tool in statistical analysis and data interpretation.\n",
    "\n",
    "\n",
    "\n",
    "\n"
   ]
  },
  {
   "cell_type": "code",
   "execution_count": null,
   "id": "dfd8a99b-a507-40d3-9a58-9d4ef8c33b7c",
   "metadata": {},
   "outputs": [],
   "source": [
    "ans 11"
   ]
  },
  {
   "cell_type": "markdown",
   "id": "3610a66c-c07f-4d4f-a902-c26d4f4d37a4",
   "metadata": {},
   "source": [
    "The formula for calculating the sample mean (average) is as follows:\n",
    "\n",
    "Sample Mean (x̄) = (Sum of all data points) / (Number of data points)\n",
    "\n",
    "Here's an example calculation for a dataset:\n",
    "\n",
    "Suppose you have the following dataset of exam scores:\n",
    "\n",
    "85, 90, 78, 92, 88, 76, 89\n",
    "\n",
    "To calculate the sample mean for this dataset:\n",
    "\n",
    "Add up all the data points:\n",
    "Sum = 85 + 90 + 78 + 92 + 88 + 76 + 89 = 598\n",
    "\n",
    "Count the number of data points, which is 7 in this case.\n",
    "\n",
    "Apply the formula for the sample mean:\n",
    "\n",
    "Sample Mean (x̄) = Sum / Number of Data Points\n",
    "Sample Mean (x̄) = 598 / 7\n",
    "\n",
    "Calculating the sample mean:\n",
    "\n",
    "Sample Mean (x̄) = 85.43 (rounded to two decimal places)\n",
    "\n",
    "So, the sample mean for this dataset of exam scores is approximately 85.43. This value represents the average score of the seven students.\n",
    "\n",
    "\n",
    "\n",
    "\n"
   ]
  },
  {
   "cell_type": "code",
   "execution_count": null,
   "id": "f5cdc1fc-1078-43de-9182-1824136a349a",
   "metadata": {},
   "outputs": [],
   "source": [
    "ans 12"
   ]
  },
  {
   "cell_type": "markdown",
   "id": "d181c50d-a2be-4863-ba2a-39cfa1dbbea9",
   "metadata": {},
   "source": [
    "For a normal distribution (also known as a Gaussian distribution), there is a specific relationship between its measures of central tendency, namely the mean, median, and mode. In a perfectly normal distribution:\n",
    "\n",
    "Mean (Average): The mean, median, and mode are all equal and located at the center of the distribution. The mean is the arithmetic average of all data points in the distribution.\n",
    "\n",
    "Median: The median, which is the middle value when the data is ordered, is also equal to the mean and mode in a perfectly normal distribution. The median divides the distribution into two equal halves, and because the normal distribution is symmetric, the mean and median coincide.\n",
    "\n",
    "Mode: The mode in a normal distribution is also equal to the mean and median. In a normal distribution, there is only one mode, and it corresponds to the peak or highest point of the distribution, which is located at the center."
   ]
  },
  {
   "cell_type": "code",
   "execution_count": null,
   "id": "83349b20-8f55-424a-814f-136f1c235d2f",
   "metadata": {},
   "outputs": [],
   "source": [
    "ans 13"
   ]
  },
  {
   "cell_type": "markdown",
   "id": "f8f92913-082f-474b-ba49-02b4a621947b",
   "metadata": {},
   "source": [
    "Covariance and correlation are both measures used in statistics to assess the relationship between two variables, but they serve different purposes and have distinct properties:\n",
    "\n",
    "Covariance:\n",
    "\n",
    "Definition: Covariance is a measure of the degree to which two random variables change together. It indicates whether an increase in one variable corresponds to an increase or decrease in the other. A positive covariance indicates a positive relationship (as one variable increases, the other tends to increase), while a negative covariance suggests a negative relationship (as one variable increases, the other tends to decrease).\n",
    "\n",
    "Units of Measurement: The units of covariance are the product of the units of the two variables. Therefore, the magnitude of covariance is sensitive to the scale of the variables.\n",
    "\n",
    "Range: The range of covariance is unbounded, which means it can take any real value.\n",
    "\n",
    "Interpretation: The magnitude of covariance doesn't provide a clear measure of the strength of the relationship between variables, making it challenging to compare covariances across different datasets.\n",
    "\n",
    "Correlation:\n",
    "\n",
    "Definition: Correlation is a standardized measure that assesses the strength and direction of the linear relationship between two variables. It scales the covariance by the product of the standard deviations of the two variables, resulting in a value between -1 and 1. A correlation of 1 indicates a perfect positive linear relationship, -1 represents a perfect negative linear relationship, and 0 means no linear relationship.\n",
    "\n",
    "Units of Measurement: Correlation is a unitless measure, which means it's not affected by the scale of the variables.\n",
    "\n",
    "Range: Correlation values are bounded between -1 and 1.\n",
    "\n",
    "Interpretation: Correlation provides a clear measure of the strength and direction of a linear relationship between variables. It's easier to interpret, and the magnitude of the correlation can be used to compare relationships across different datasets.\n",
    "\n",
    "In summary, covariance and correlation both assess the relationship between variables, but correlation is more commonly used due to its standardized scale, making it easier to interpret and compare. Correlation provides a valuable tool for understanding the strength and direction of linear relationships between variables, while covariance lacks this standardization and is less interpretable.\n"
   ]
  },
  {
   "cell_type": "code",
   "execution_count": null,
   "id": "84db17aa-0018-4cb7-8ada-e6264fb31ef2",
   "metadata": {},
   "outputs": [],
   "source": [
    "ans 14"
   ]
  },
  {
   "cell_type": "markdown",
   "id": "7ba407d2-41c6-4fdd-8a76-bccfb8bdb376",
   "metadata": {},
   "source": [
    "Outliers are data points that significantly differ from the majority of the data in a dataset. They can have a substantial impact on measures of central tendency (mean, median, mode) and measures of dispersion (variance, standard deviation, range). Here's how outliers affect these measures:\n",
    "\n",
    "Measures of Central Tendency:\n",
    "\n",
    "Mean: Outliers can pull the mean in their direction. If you have one or more exceptionally high or low values, the mean may not represent the typical or central value of the majority of the data accurately. For example, if you have a dataset of household incomes, and one person has an exceptionally high income, the mean income will be significantly influenced by that outlier.\n",
    "\n",
    "Median: The median is less affected by outliers than the mean. It represents the middle value in an ordered dataset, so it's not influenced by the extreme values. In some cases, the median may provide a more robust measure of central tendency when outliers are present.\n",
    "\n",
    "Mode: The mode, which is the most frequently occurring value, is also relatively robust against outliers, as long as the outlier is not close to the mode. If the outlier is significantly different from the mode, it might affect the mode, but this is less common.\n",
    "\n",
    "Measures of Dispersion:\n",
    "\n",
    "Variance and Standard Deviation: Outliers can greatly affect the variance and standard deviation. Since these measures consider the squared differences between data points and the mean, outliers with large deviations from the mean can substantially increase these measures. This can make the data appear more dispersed than it actually is.\n",
    "\n",
    "Range: Outliers directly impact the range, as it is calculated as the difference between the maximum and minimum values. If there are outliers at either extreme, the range will be wider, even if the majority of the data is closely grouped.\n",
    "\n",
    "Example:\n",
    "Consider the following dataset of test scores: 78, 85, 90, 92, 94, 99, 55, 102.\n",
    "\n",
    "The mean without outliers is (78 + 85 + 90 + 92 + 94 + 99) / 6 = 87.33. However, the presence of the outlier, 102, significantly increases the mean to 90.14.\n",
    "\n",
    "The median is less affected by the outlier, as it remains 91.\n",
    "\n",
    "The standard deviation, which measures the spread of the data, increases considerably due to the outlier.\n",
    "\n",
    "In summary, outliers can distort measures of central tendency and dispersion, making them less representative of the central or typical characteristics of the majority of the data. Therefore, it's important to identify and, in some cases, handle outliers appropriately in statistical analysis.\n",
    "\n",
    "\n",
    "\n",
    "\n"
   ]
  },
  {
   "cell_type": "code",
   "execution_count": null,
   "id": "761bd0e0-4461-4325-8072-099748c247a7",
   "metadata": {},
   "outputs": [],
   "source": []
  },
  {
   "cell_type": "code",
   "execution_count": null,
   "id": "015c24bb-691f-4e0b-a0bb-19de343254d6",
   "metadata": {},
   "outputs": [],
   "source": []
  },
  {
   "cell_type": "code",
   "execution_count": null,
   "id": "d7de2603-240e-4d6f-829f-8866c351cda6",
   "metadata": {},
   "outputs": [],
   "source": [
    "complete"
   ]
  }
 ],
 "metadata": {
  "kernelspec": {
   "display_name": "Python 3 (ipykernel)",
   "language": "python",
   "name": "python3"
  },
  "language_info": {
   "codemirror_mode": {
    "name": "ipython",
    "version": 3
   },
   "file_extension": ".py",
   "mimetype": "text/x-python",
   "name": "python",
   "nbconvert_exporter": "python",
   "pygments_lexer": "ipython3",
   "version": "3.10.8"
  }
 },
 "nbformat": 4,
 "nbformat_minor": 5
}
